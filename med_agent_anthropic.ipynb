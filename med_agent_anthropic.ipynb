{
 "cells": [
  {
   "cell_type": "code",
   "execution_count": 2,
   "id": "986f6fda-6882-4340-902d-9839285d92b7",
   "metadata": {},
   "outputs": [],
   "source": [
    "import nest_asyncio\n",
    "# Allows nested asyncio event loops - Jupyter already runs in an event loop,\n",
    "# so nest_asyncio lets us use asyncio.run() within this environment.\n",
    "nest_asyncio.apply()"
   ]
  },
  {
   "cell_type": "code",
   "execution_count": 1,
   "id": "cd0bd951-2cbd-4519-a129-050637ffab8b",
   "metadata": {},
   "outputs": [],
   "source": [
    "from haystack import Pipeline\n",
    "from haystack.components.agents import Agent\n",
    "from haystack_integrations.components.generators.anthropic import AnthropicChatGenerator\n",
    "from haystack.components.tools import ToolInvoker\n",
    "from haystack.components.converters import OutputAdapter\n",
    "from haystack.dataclasses import ChatMessage"
   ]
  },
  {
   "cell_type": "code",
   "execution_count": 4,
   "id": "d2374e20-ae99-4279-bce8-dca46f292cf5",
   "metadata": {},
   "outputs": [
    {
     "name": "stdin",
     "output_type": "stream",
     "text": [
      "Enter your Anthropic API key:  ········\n"
     ]
    }
   ],
   "source": [
    "import getpass\n",
    "import os\n",
    "\n",
    "os.environ['ANTHROPIC_API_KEY'] = getpass.getpass(prompt='Enter your Anthropic API key: ')"
   ]
  },
  {
   "cell_type": "code",
   "execution_count": 3,
   "id": "4beca971-5ad1-4a81-8cc4-e2d3510eab7f",
   "metadata": {},
   "outputs": [],
   "source": [
    "# llm = OllamaChatGenerator(model=\"qwen2.5:32b\", timeout=90, url=\"http://localhost:11434\", streaming_callback=lambda chunk: print(chunk.content, end=\"\", flush=True))"
   ]
  },
  {
   "cell_type": "code",
   "execution_count": null,
   "id": "713cc968-cb4f-435d-8744-39926c12f473",
   "metadata": {},
   "outputs": [
    {
     "name": "stdout",
     "output_type": "stream",
     "text": [
      "Natural Language Processing (NLP) is a branch of Artificial Intelligence that focuses on enabling computers to understand, interpret, and generate human languages in a valuable way. It involves the development of algorithms and models that can process large amounts of natural language data to perform tasks such as text classification, sentiment analysis, machine translation, speech recognition, and more.\n",
      "\n",
      "To get started with NLP, you can follow these steps:\n",
      "\n",
      "1. **Learn the Basics**: Start by understanding the fundamental concepts in linguistics and computer science relevant to NLP. This"
     ]
    }
   ],
   "source": [
    "# messages = [\n",
    "#     ChatMessage.from_user(\"What's Natural Language Processing?\"),\n",
    "#     ChatMessage.from_system(\n",
    "#         \"Natural Language Processing (NLP) is a field of computer science and artificial \"\n",
    "#         \"intelligence concerned with the interaction between computers and human language\"\n",
    "#     ),\n",
    "#     ChatMessage.from_user(\"How do I get started?\"),\n",
    "# ]\n",
    "\n",
    "# response = llm.run(messages, generation_kwargs={\"temperature\": 0.2})\n",
    "\n",
    "# print(response[\"replies\"][0].text)"
   ]
  },
  {
   "cell_type": "code",
   "execution_count": 5,
   "id": "0610b951-66c4-4ba1-bccf-8a3c36f4d3bb",
   "metadata": {},
   "outputs": [],
   "source": [
    "from haystack_integrations.tools.mcp import MCPToolset, StdioServerInfo, SSEServerInfo"
   ]
  },
  {
   "cell_type": "code",
   "execution_count": 6,
   "id": "fc4960de-6212-41e2-859b-89032a368295",
   "metadata": {},
   "outputs": [],
   "source": [
    "server_info = StdioServerInfo(command=\"uv\", args=[\"run\", \"--with\", \"biomcp-python\", \"biomcp\", \"run\"])"
   ]
  },
  {
   "cell_type": "code",
   "execution_count": 9,
   "id": "eb2e7eb3-5257-472b-8c10-bf8d4d941622",
   "metadata": {},
   "outputs": [],
   "source": [
    "mcp_toolset = MCPToolset(server_info)"
   ]
  },
  {
   "cell_type": "code",
   "execution_count": 10,
   "id": "868df17a-c507-4098-8db2-5e643d0a555c",
   "metadata": {},
   "outputs": [
    {
     "data": {
      "text/plain": [
       "[Tool(name='article_details', description=\"\\n    Retrieves details for a single PubMed article given its\\n    PubMed ID (PMID).\\n    Input: A single PMID (e.g., 34397683)\\n    Process: Calls the PubTator3 API to fetch the article's\\n             title, abstract, and full text (if available).\\n    Output: A Markdown formatted string containing the\\n            retrieved article content.\\n    \", parameters={'properties': {'pmid': {'title': 'pmid', 'type': 'string'}}, 'required': ['pmid'], 'title': 'article_detailsArguments', 'type': 'object'}, function=<function MCPToolset.__init__.<locals>.create_invoke_tool.<locals>.invoke_tool at 0x11430e660>, outputs_to_string=None, inputs_from_state=None, outputs_to_state=None),\n",
       " Tool(name='article_searcher', description='\\n    Searches PubMed articles using structured criteria.\\n    Input: A `PubmedRequest` object containing lists for `genes`,\\n           `variants`, `diseases`, `chemicals`, and `keywords`.\\n           Use full terms (\"Non-small cell lung carcinoma\") over\\n           abbreviations (\"NSCLC\"). Use keywords to specify terms\\n           that don\\'t fit in disease, gene (\"EGFR\"), chemical (\"Cisplatin\"),\\n           or variant (\"BRAF V600E\").\\n    Process: Resolves entities then queries PubTator3\\'s search API.\\n    Output: A Markdown formatted list summarizing matching articles\\n            (PMID, title, abstract, etc.). Limited to max 40 results.\\n    ', parameters={'$defs': {'PubmedRequest': {'properties': {'chemicals': {'description': 'List of chemicals for filtering results.', 'items': {'type': 'string'}, 'title': 'Chemicals', 'type': 'array'}, 'diseases': {'description': 'Diseases such as Hypertension, Lung Adenocarcinoma, etc.', 'items': {'type': 'string'}, 'title': 'Diseases', 'type': 'array'}, 'genes': {'description': 'List of genes for filtering results.', 'items': {'type': 'string'}, 'title': 'Genes', 'type': 'array'}, 'keywords': {'description': 'List of other keywords for filtering results.', 'items': {'type': 'string'}, 'title': 'Keywords', 'type': 'array'}, 'variants': {'description': 'List of variants for filtering results.', 'items': {'type': 'string'}, 'title': 'Variants', 'type': 'array'}}, 'title': 'PubmedRequest', 'type': 'object'}}, 'properties': {'request': {'$ref': '#/$defs/PubmedRequest'}}, 'required': ['request'], 'title': 'article_searcherArguments', 'type': 'object'}, function=<function MCPToolset.__init__.<locals>.create_invoke_tool.<locals>.invoke_tool at 0x11430e520>, outputs_to_string=None, inputs_from_state=None, outputs_to_state=None),\n",
       " Tool(name='trial_protocol', description='\\n    Retrieves core protocol information for a single clinical\\n    trial identified by its NCT ID.\\n    Input: A single NCT ID (string, e.g., \"NCT04280705\").\\n    Process: Fetches standard \"Protocol\" view modules (like ID,\\n             Status, Sponsor, Design, Eligibility) from the\\n             ClinicalTrials.gov v2 API.\\n    Output: A Markdown formatted string detailing title, status,\\n            sponsor, purpose, study design, phase, interventions,\\n            eligibility criteria, etc. Returns error if invalid.\\n    ', parameters={'properties': {'nct_id': {'title': 'Nct Id', 'type': 'string'}}, 'required': ['nct_id'], 'title': 'trial_protocolArguments', 'type': 'object'}, function=<function MCPToolset.__init__.<locals>.create_invoke_tool.<locals>.invoke_tool at 0x11430f1a0>, outputs_to_string=None, inputs_from_state=None, outputs_to_state=None),\n",
       " Tool(name='trial_locations', description='\\n    Retrieves contact and location details for a single\\n    clinical trial identified by its NCT ID.\\n    Input: A single NCT ID (string, e.g., \"NCT04280705\").\\n    Process: Fetches the `ContactsLocationsModule` from the\\n             ClinicalTrials.gov v2 API for the given NCT ID.\\n    Output: A Markdown formatted string detailing facility names,\\n            addresses (city, state, country), and contact info.\\n            Returns an error message if the NCT ID is invalid.\\n    ', parameters={'properties': {'nct_id': {'title': 'Nct Id', 'type': 'string'}}, 'required': ['nct_id'], 'title': 'trial_locationsArguments', 'type': 'object'}, function=<function MCPToolset.__init__.<locals>.create_invoke_tool.<locals>.invoke_tool at 0x11430f2e0>, outputs_to_string=None, inputs_from_state=None, outputs_to_state=None),\n",
       " Tool(name='trial_outcomes', description='\\n    Retrieves outcome measures, results (if available), and\\n    adverse event data for a single clinical trial.\\n    Input: A single NCT ID (string, e.g., \"NCT04280705\").\\n    Process: Fetches the `OutcomesModule` and `ResultsSection`\\n             from the ClinicalTrials.gov v2 API for the NCT ID.\\n    Output: A Markdown formatted string detailing primary/secondary\\n            outcomes, participant flow, results tables (if posted),\\n            and adverse event summaries. Returns an error if invalid.\\n    ', parameters={'properties': {'nct_id': {'title': 'Nct Id', 'type': 'string'}}, 'required': ['nct_id'], 'title': 'trial_outcomesArguments', 'type': 'object'}, function=<function MCPToolset.__init__.<locals>.create_invoke_tool.<locals>.invoke_tool at 0x11430f380>, outputs_to_string=None, inputs_from_state=None, outputs_to_state=None),\n",
       " Tool(name='trial_references', description='\\n    Retrieves publications and other references associated with\\n    a single clinical trial identified by its NCT ID.\\n    Input: A single NCT ID (string, e.g., \"NCT04280705\").\\n    Process: Fetches the `ReferencesModule` from the\\n             ClinicalTrials.gov v2 API for the NCT ID.\\n    Output: A Markdown formatted string listing citations,\\n            associated PubMed IDs (PMIDs), and reference types\\n            (e.g., result publication). Returns error if invalid.\\n    ', parameters={'properties': {'nct_id': {'title': 'Nct Id', 'type': 'string'}}, 'required': ['nct_id'], 'title': 'trial_referencesArguments', 'type': 'object'}, function=<function MCPToolset.__init__.<locals>.create_invoke_tool.<locals>.invoke_tool at 0x11430f420>, outputs_to_string=None, inputs_from_state=None, outputs_to_state=None),\n",
       " Tool(name='trial_searcher', description='\\n    Searches for clinical trials based on specified criteria.\\n    Input: A `TrialQuery` object containing fields like `conditions`,\\n           `interventions`, `terms`, `recruiting_status`, `phase`,\\n           `location` (lat/long/distance), date ranges, etc.\\n    Process: Queries the ClinicalTrials.gov v2 API\\n    Output: A Markdown formatted list summarizing matching trials\\n            (NCT ID, Title, Status, Conditions, Interventions,\\n            Summary). Results are typically paginated by the API.\\n    ', parameters={'$defs': {'AgeGroup': {'enum': ['CHILD', 'ADULT', 'SENIOR', 'ALL'], 'title': 'AgeGroup', 'type': 'string'}, 'DateField': {'enum': ['LAST_UPDATE', 'STUDY_START', 'PRIMARY_COMPLETION', 'OUTCOME_POSTING', 'COMPLETION', 'FIRST_POSTING', 'SUBMITTED_DATE'], 'title': 'DateField', 'type': 'string'}, 'InterventionType': {'enum': ['DRUG', 'DEVICE', 'BIOLOGICAL', 'PROCEDURE', 'RADIATION', 'BEHAVIORAL', 'GENETIC', 'DIETARY', 'DIAGNOSTIC_TEST', 'OTHER'], 'title': 'InterventionType', 'type': 'string'}, 'PrimaryPurpose': {'enum': ['TREATMENT', 'PREVENTION', 'DIAGNOSTIC', 'SUPPORTIVE_CARE', 'SCREENING', 'HEALTH_SERVICES', 'BASIC_SCIENCE', 'DEVICE_FEASIBILITY', 'OTHER'], 'title': 'PrimaryPurpose', 'type': 'string'}, 'RecruitingStatus': {'enum': ['OPEN', 'CLOSED', 'ANY'], 'title': 'RecruitingStatus', 'type': 'string'}, 'SortOrder': {'enum': ['RELEVANCE', 'LAST_UPDATE', 'ENROLLMENT', 'START_DATE', 'COMPLETION_DATE', 'SUBMITTED_DATE'], 'title': 'SortOrder', 'type': 'string'}, 'SponsorType': {'enum': ['INDUSTRY', 'GOVERNMENT', 'ACADEMIC', 'OTHER'], 'title': 'SponsorType', 'type': 'string'}, 'StudyDesign': {'enum': ['RANDOMIZED', 'NON_RANDOMIZED', 'OBSERVATIONAL'], 'title': 'StudyDesign', 'type': 'string'}, 'StudyType': {'enum': ['INTERVENTIONAL', 'OBSERVATIONAL', 'EXPANDED_ACCESS', 'OTHER'], 'title': 'StudyType', 'type': 'string'}, 'TrialPhase': {'enum': ['EARLY_PHASE1', 'PHASE1', 'PHASE2', 'PHASE3', 'PHASE4', 'NOT_APPLICABLE'], 'title': 'TrialPhase', 'type': 'string'}, 'TrialQuery': {'description': 'Parameters for querying clinical trial data from ClinicalTrials.gov.', 'properties': {'conditions': {'anyOf': [{'items': {'type': 'string'}, 'type': 'array'}, {'type': 'null'}], 'default': None, 'description': 'List of condition terms.', 'title': 'Conditions'}, 'terms': {'anyOf': [{'items': {'type': 'string'}, 'type': 'array'}, {'type': 'null'}], 'default': None, 'description': \"General search terms that don't fit specific categories.\", 'title': 'Terms'}, 'interventions': {'anyOf': [{'items': {'type': 'string'}, 'type': 'array'}, {'type': 'null'}], 'default': None, 'description': 'Intervention names.', 'title': 'Interventions'}, 'recruiting_status': {'anyOf': [{'$ref': '#/$defs/RecruitingStatus'}, {'type': 'null'}], 'default': None, 'description': 'Study recruitment status.'}, 'study_type': {'anyOf': [{'$ref': '#/$defs/StudyType'}, {'type': 'null'}], 'default': None, 'description': 'Type of study.'}, 'nct_ids': {'anyOf': [{'items': {'type': 'string'}, 'type': 'array'}, {'type': 'null'}], 'default': None, 'description': 'Clinical trial NCT IDs', 'title': 'Nct Ids'}, 'lat': {'anyOf': [{'type': 'number'}, {'type': 'null'}], 'default': None, 'description': 'Latitude for location search', 'title': 'Lat'}, 'long': {'anyOf': [{'type': 'number'}, {'type': 'null'}], 'default': None, 'description': 'Longitude for location search', 'title': 'Long'}, 'distance': {'anyOf': [{'type': 'integer'}, {'type': 'null'}], 'default': None, 'description': 'Distance from lat/long in miles', 'title': 'Distance'}, 'min_date': {'anyOf': [{'type': 'string'}, {'type': 'null'}], 'default': None, 'description': 'Minimum date for filtering', 'title': 'Min Date'}, 'max_date': {'anyOf': [{'type': 'string'}, {'type': 'null'}], 'default': None, 'description': 'Maximum date for filtering', 'title': 'Max Date'}, 'date_field': {'anyOf': [{'$ref': '#/$defs/DateField'}, {'type': 'null'}], 'default': None, 'description': 'Date field to filter on'}, 'phase': {'anyOf': [{'$ref': '#/$defs/TrialPhase'}, {'type': 'null'}], 'default': None, 'description': 'Trial phase filter'}, 'age_group': {'anyOf': [{'$ref': '#/$defs/AgeGroup'}, {'type': 'null'}], 'default': None, 'description': 'Age group filter'}, 'primary_purpose': {'anyOf': [{'$ref': '#/$defs/PrimaryPurpose'}, {'type': 'null'}], 'default': None, 'description': 'Primary purpose of the trial'}, 'intervention_type': {'anyOf': [{'$ref': '#/$defs/InterventionType'}, {'type': 'null'}], 'default': None, 'description': 'Type of intervention'}, 'sponsor_type': {'anyOf': [{'$ref': '#/$defs/SponsorType'}, {'type': 'null'}], 'default': None, 'description': 'Type of sponsor'}, 'study_design': {'anyOf': [{'$ref': '#/$defs/StudyDesign'}, {'type': 'null'}], 'default': None, 'description': 'Study design'}, 'sort': {'anyOf': [{'$ref': '#/$defs/SortOrder'}, {'type': 'null'}], 'default': None, 'description': 'Sort order for results'}, 'next_page_hash': {'anyOf': [{'type': 'string'}, {'type': 'null'}], 'default': None, 'description': 'Token to retrieve the next page of results', 'title': 'Next Page Hash'}}, 'title': 'TrialQuery', 'type': 'object'}}, 'properties': {'query': {'$ref': '#/$defs/TrialQuery'}}, 'required': ['query'], 'title': 'trial_searcherArguments', 'type': 'object'}, function=<function MCPToolset.__init__.<locals>.create_invoke_tool.<locals>.invoke_tool at 0x11430f4c0>, outputs_to_string=None, inputs_from_state=None, outputs_to_state=None),\n",
       " Tool(name='variant_searcher', description='\\n    Searches for genetic variants based on specified criteria.\\n    Input: A `VariantQuery` object containing fields like `gene`,\\n           HGVS notations `hgvsp`, `hgvsc`), `rsid`, `region`,\\n           `significance`, frequency ranges, prediction scores, etc.\\n    Process: Constructs a query for the MyVariant.info query\\n             endpoint (`/v1/query`) based on the input object.\\n    Output: A Markdown formatted list summarizing matching variants\\n            with key annotations (ID, gene, significance, frequency).\\n            Includes a summary section with total hits found.\\n    ', parameters={'$defs': {'ClinicalSignificance': {'enum': ['pathogenic', 'likely pathogenic', 'uncertain significance', 'likely benign', 'benign'], 'title': 'ClinicalSignificance', 'type': 'string'}, 'PolyPhenPrediction': {'enum': ['D', 'P', 'B'], 'title': 'PolyPhenPrediction', 'type': 'string'}, 'SiftPrediction': {'enum': ['D', 'T'], 'title': 'SiftPrediction', 'type': 'string'}, 'VariantQuery': {'description': 'Search parameters for querying variant data from MyVariant.info.', 'properties': {'gene': {'anyOf': [{'type': 'string'}, {'type': 'null'}], 'default': None, 'description': 'Gene symbol to search for (e.g. BRAF, TP53)', 'title': 'Gene'}, 'hgvsp': {'anyOf': [{'type': 'string'}, {'type': 'null'}], 'default': None, 'description': 'Protein change notation (e.g., p.V600E, p.Arg557His)', 'title': 'Hgvsp'}, 'hgvsc': {'anyOf': [{'type': 'string'}, {'type': 'null'}], 'default': None, 'description': 'cDNA notation (e.g., c.1799T>A)', 'title': 'Hgvsc'}, 'rsid': {'anyOf': [{'type': 'string'}, {'type': 'null'}], 'default': None, 'description': 'dbSNP rsID (e.g., rs113488022)', 'title': 'Rsid'}, 'region': {'anyOf': [{'type': 'string'}, {'type': 'null'}], 'default': None, 'description': 'Genomic region as chr:start-end (e.g. chr1:12345-67890)', 'title': 'Region'}, 'significance': {'anyOf': [{'$ref': '#/$defs/ClinicalSignificance'}, {'type': 'null'}], 'default': None, 'description': 'ClinVar clinical significance'}, 'max_frequency': {'anyOf': [{'type': 'number'}, {'type': 'null'}], 'default': None, 'description': 'Maximum population allele frequency threshold', 'title': 'Max Frequency'}, 'min_frequency': {'anyOf': [{'type': 'number'}, {'type': 'null'}], 'default': None, 'description': 'Minimum population allele frequency threshold', 'title': 'Min Frequency'}, 'cadd': {'anyOf': [{'type': 'number'}, {'type': 'null'}], 'default': None, 'description': 'Minimum CADD phred score', 'title': 'Cadd'}, 'polyphen': {'anyOf': [{'$ref': '#/$defs/PolyPhenPrediction'}, {'type': 'null'}], 'default': None, 'description': 'PolyPhen-2 prediction'}, 'sift': {'anyOf': [{'$ref': '#/$defs/SiftPrediction'}, {'type': 'null'}], 'default': None, 'description': 'SIFT prediction'}, 'sources': {'description': 'Include only specific data sources', 'items': {'$ref': '#/$defs/VariantSources'}, 'title': 'Sources', 'type': 'array'}, 'size': {'default': 40, 'description': 'Number of results to return', 'title': 'Size', 'type': 'integer'}, 'offset': {'default': 0, 'description': 'Result offset for pagination', 'title': 'Offset', 'type': 'integer'}}, 'title': 'VariantQuery', 'type': 'object'}, 'VariantSources': {'enum': ['cadd', 'cgi', 'civic', 'clinvar', 'cosmic', 'dbnsfp', 'dbsnp', 'docm', 'evm', 'exac', 'gnomad_exome', 'hg19', 'mutdb', 'snpeff', 'vcf'], 'title': 'VariantSources', 'type': 'string'}}, 'properties': {'query': {'$ref': '#/$defs/VariantQuery'}}, 'required': ['query'], 'title': 'variant_searcherArguments', 'type': 'object'}, function=<function MCPToolset.__init__.<locals>.create_invoke_tool.<locals>.invoke_tool at 0x11430f560>, outputs_to_string=None, inputs_from_state=None, outputs_to_state=None),\n",
       " Tool(name='variant_details', description='\\n    Retrieves detailed information for a *single* genetic variant.\\n    Input: A variant identifier (\"chr7:g.140453136A>T\")\\n    Process: Queries the MyVariant.info GET endpoint\\n    Output: A Markdown formatted string containing comprehensive\\n            variant annotations (genomic context, frequencies,\\n            predictions, clinical data). Returns error if invalid.\\n    Note: Use the variant_searcher to find the variant id first.\\n    ', parameters={'properties': {'variant_id': {'title': 'Variant Id', 'type': 'string'}}, 'required': ['variant_id'], 'title': 'variant_detailsArguments', 'type': 'object'}, function=<function MCPToolset.__init__.<locals>.create_invoke_tool.<locals>.invoke_tool at 0x11430f600>, outputs_to_string=None, inputs_from_state=None, outputs_to_state=None)]"
      ]
     },
     "execution_count": 10,
     "metadata": {},
     "output_type": "execute_result"
    }
   ],
   "source": [
    "mcp_toolset.tools"
   ]
  },
  {
   "cell_type": "code",
   "execution_count": 8,
   "id": "c20d7597-a77a-466a-83e8-d60f464b4d37",
   "metadata": {},
   "outputs": [
    {
     "name": "stderr",
     "output_type": "stream",
     "text": [
      "Unsafe mode is enabled. This allows execution of arbitrary code in the Jinja template. Use this only if you trust the source of the template.\n"
     ]
    },
    {
     "name": "stdout",
     "output_type": "stream",
     "text": [
      "I'd be happy to create a short report on clinical trials involving Diclofenac. Let me search for relevant clinical trials using the trial_searcher tool.# Report on Clinical Trials with Diclofenac\n",
      "\n",
      "## Introduction\n",
      "Diclofenac is a non-steroidal anti-inflammatory drug (NSAID) that is commonly used to treat pain, inflammation, and stiffness. This report summarizes key findings from clinical trials investigating various forms and applications of diclofenac across different medical conditions.\n",
      "\n",
      "## Formulations and Delivery Methods\n",
      "Clinical trials have evaluated multiple diclofenac formulations:\n",
      "- Oral tablets/capsules (diclofenac sodium, diclofenac potassium)\n",
      "- Topical gels (including Voltaren Gel, Solaraze, PENNSAID)\n",
      "- Transdermal patches\n",
      "- Injectable forms (intramuscular, subcutaneous)\n",
      "- Rectal suppositories\n",
      "- Novel delivery systems (trans-mucosal bio-adhesive discs, in-situ gels)\n",
      "\n",
      "## Major Therapeutic Applications\n",
      "\n",
      "### Pain Management\n",
      "Several trials have assessed diclofenac's efficacy for pain relief:\n",
      "- Post-operative pain (NCT06845930, NCT02752971)\n",
      "- Dental/oral pain (NCT03221946, NCT00943098)\n",
      "- Migraine (NCT00330850, NCT02287376)\n",
      "- Musculoskeletal pain and sports injuries\n",
      "\n",
      "### Osteoarthritis\n",
      "Multiple studies have evaluated diclofenac for osteoarthritis, particularly:\n",
      "- Knee osteoarthritis (NCT01119898, NCT01456611)\n",
      "- Comparing topical application against oral administration\n",
      "\n",
      "### Dermatological Conditions\n",
      "Diclofenac has been investigated for skin conditions:\n",
      "- Actinic keratosis (NCT02611804, NCT00204542, NCT04552327)\n",
      "- Hand-foot syndrome in cancer patients (NCT05641246)\n",
      "\n",
      "### Inflammatory Conditions\n",
      "Trials have examined diclofenac's effects on:\n",
      "- Ankylosing spondylitis (NCT00715091)\n",
      "- Uveitis and cystoid macular edema (NCT00893854)\n",
      "\n",
      "## Safety Considerations\n",
      "Clinical trials have addressed important safety aspects:\n",
      "- Drug interactions with anticoagulants (NCT01511939, NCT02782338)\n",
      "- Gastrointestinal safety profiles\n",
      "- Comparison of different administration routes to minimize systemic exposure\n",
      "\n",
      "## Comparative Efficacy Studies\n",
      "Several trials have compared:\n",
      "- Diclofenac versus placebo (multiple studies)\n",
      "- Different diclofenac formulations (NCT04500509, NCT04331210)\n",
      "- Diclofenac in combination with other drugs (NCT04593160)\n",
      "\n",
      "## Recent Innovations\n",
      "Notable research advancements include:\n",
      "- Combination therapies (diclofenac with codeine, acetaminophen)\n",
      "- Novel delivery mechanisms to enhance efficacy and reduce side effects\n",
      "- Pediatric applications (NCT01982539, NCT02287376)\n",
      "\n",
      "## Conclusion\n",
      "Clinical trials with diclofenac demonstrate its versatility across multiple therapeutic areas. Ongoing research continues to explore new formulations, combinations, and applications to optimize efficacy while minimizing adverse effects. The diverse range of completed and active trials reflects diclofenac's established position as an important therapeutic agent in modern medicine.{'tool_invoker': {'state': <haystack.dataclasses.state.State object at 0x113f910d0>}, 'response_llm': {'replies': [ChatMessage(_role=<ChatRole.ASSISTANT: 'assistant'>, _content=[TextContent(text=\"# Report on Clinical Trials with Diclofenac\\n\\n## Introduction\\nDiclofenac is a non-steroidal anti-inflammatory drug (NSAID) that is commonly used to treat pain, inflammation, and stiffness. This report summarizes key findings from clinical trials investigating various forms and applications of diclofenac across different medical conditions.\\n\\n## Formulations and Delivery Methods\\nClinical trials have evaluated multiple diclofenac formulations:\\n- Oral tablets/capsules (diclofenac sodium, diclofenac potassium)\\n- Topical gels (including Voltaren Gel, Solaraze, PENNSAID)\\n- Transdermal patches\\n- Injectable forms (intramuscular, subcutaneous)\\n- Rectal suppositories\\n- Novel delivery systems (trans-mucosal bio-adhesive discs, in-situ gels)\\n\\n## Major Therapeutic Applications\\n\\n### Pain Management\\nSeveral trials have assessed diclofenac's efficacy for pain relief:\\n- Post-operative pain (NCT06845930, NCT02752971)\\n- Dental/oral pain (NCT03221946, NCT00943098)\\n- Migraine (NCT00330850, NCT02287376)\\n- Musculoskeletal pain and sports injuries\\n\\n### Osteoarthritis\\nMultiple studies have evaluated diclofenac for osteoarthritis, particularly:\\n- Knee osteoarthritis (NCT01119898, NCT01456611)\\n- Comparing topical application against oral administration\\n\\n### Dermatological Conditions\\nDiclofenac has been investigated for skin conditions:\\n- Actinic keratosis (NCT02611804, NCT00204542, NCT04552327)\\n- Hand-foot syndrome in cancer patients (NCT05641246)\\n\\n### Inflammatory Conditions\\nTrials have examined diclofenac's effects on:\\n- Ankylosing spondylitis (NCT00715091)\\n- Uveitis and cystoid macular edema (NCT00893854)\\n\\n## Safety Considerations\\nClinical trials have addressed important safety aspects:\\n- Drug interactions with anticoagulants (NCT01511939, NCT02782338)\\n- Gastrointestinal safety profiles\\n- Comparison of different administration routes to minimize systemic exposure\\n\\n## Comparative Efficacy Studies\\nSeveral trials have compared:\\n- Diclofenac versus placebo (multiple studies)\\n- Different diclofenac formulations (NCT04500509, NCT04331210)\\n- Diclofenac in combination with other drugs (NCT04593160)\\n\\n## Recent Innovations\\nNotable research advancements include:\\n- Combination therapies (diclofenac with codeine, acetaminophen)\\n- Novel delivery mechanisms to enhance efficacy and reduce side effects\\n- Pediatric applications (NCT01982539, NCT02287376)\\n\\n## Conclusion\\nClinical trials with diclofenac demonstrate its versatility across multiple therapeutic areas. Ongoing research continues to explore new formulations, combinations, and applications to optimize efficacy while minimizing adverse effects. The diverse range of completed and active trials reflects diclofenac's established position as an important therapeutic agent in modern medicine.\")], _name=None, _meta={'model': 'claude-3-7-sonnet-20250219', 'index': 0, 'finish_reason': 'end_turn', 'usage': {'completion_tokens': 756}})]}}\n"
     ]
    }
   ],
   "source": [
    "# Create the toolset - this will automatically discover all available tools\n",
    "\n",
    "pipeline = Pipeline()\n",
    "pipeline.add_component(\"llm\",  AnthropicChatGenerator(model=\"claude-3-7-sonnet-20250219\", tools=mcp_toolset, streaming_callback=lambda chunk: print(chunk.content, end=\"\", flush=True)))\n",
    "pipeline.add_component(\"tool_invoker\", ToolInvoker(tools=mcp_toolset))\n",
    "pipeline.add_component(\n",
    "    \"adapter\",\n",
    "    OutputAdapter(\n",
    "        template=\"{{ initial_msg + initial_tool_messages + tool_messages }}\",\n",
    "        output_type=list[ChatMessage],\n",
    "        unsafe=True,\n",
    "    ),\n",
    ")\n",
    "pipeline.add_component(\"response_llm\",  AnthropicChatGenerator(model=\"claude-3-7-sonnet-20250219\", streaming_callback=lambda chunk: print(chunk.content, end=\"\", flush=True)))\n",
    "pipeline.connect(\"llm.replies\", \"tool_invoker.messages\")\n",
    "pipeline.connect(\"llm.replies\", \"adapter.initial_tool_messages\")\n",
    "pipeline.connect(\"tool_invoker.tool_messages\", \"adapter.tool_messages\")\n",
    "pipeline.connect(\"adapter.output\", \"response_llm.messages\")\n",
    "\n",
    "user_input = \"Create a short report on clinical trails with Diclofenac.\"  # can be any city\n",
    "user_input_msg = ChatMessage.from_user(text=user_input)\n",
    "\n",
    "result = pipeline.run({\"llm\": {\"messages\": [user_input_msg]}, \"adapter\": {\"initial_msg\": [user_input_msg]}})\n",
    "\n",
    "print(result)"
   ]
  },
  {
   "cell_type": "code",
   "execution_count": null,
   "id": "3c494b1c-6dde-4fa7-8c34-6498797277dd",
   "metadata": {},
   "outputs": [],
   "source": [
    "result"
   ]
  },
  {
   "cell_type": "code",
   "execution_count": null,
   "id": "e03ea332-97ea-4e0a-813b-d24f9df85cbe",
   "metadata": {},
   "outputs": [],
   "source": []
  }
 ],
 "metadata": {
  "kernelspec": {
   "display_name": "Python 3 (ipykernel)",
   "language": "python",
   "name": "python3"
  },
  "language_info": {
   "codemirror_mode": {
    "name": "ipython",
    "version": 3
   },
   "file_extension": ".py",
   "mimetype": "text/x-python",
   "name": "python",
   "nbconvert_exporter": "python",
   "pygments_lexer": "ipython3",
   "version": "3.11.11"
  }
 },
 "nbformat": 4,
 "nbformat_minor": 5
}
